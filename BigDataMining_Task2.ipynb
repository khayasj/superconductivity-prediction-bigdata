{
  "cells": [
    {
      "cell_type": "markdown",
      "metadata": {},
      "source": [
        "# Group Members (Group 1, T01)\n",
        "\n",
        "\n",
        "2.Shin Than Thar Aung (7903042)\n",
        "\n",
        "\n",
        "\n"
      ]
    },
    {
      "cell_type": "markdown",
      "metadata": {
        "id": "nOkp-M6Js2La"
      },
      "source": [
        "# Install PySpark\n"
      ]
    },
    {
      "cell_type": "code",
      "execution_count": null,
      "metadata": {
        "colab": {
          "base_uri": "https://localhost:8080/"
        },
        "id": "zxD2Mrykrnht",
        "outputId": "7232eb45-3d53-4629-f039-c45d8d292290"
      },
      "outputs": [
        {
          "name": "stdout",
          "output_type": "stream",
          "text": [
            "Collecting pyspark\n",
            "  Downloading pyspark-3.5.2.tar.gz (317.3 MB)\n",
            "\u001b[2K     \u001b[90m\u2501\u2501\u2501\u2501\u2501\u2501\u2501\u2501\u2501\u2501\u2501\u2501\u2501\u2501\u2501\u2501\u2501\u2501\u2501\u2501\u2501\u2501\u2501\u2501\u2501\u2501\u2501\u2501\u2501\u2501\u2501\u2501\u2501\u2501\u2501\u2501\u2501\u2501\u2501\u2501\u001b[0m \u001b[32m317.3/317.3 MB\u001b[0m \u001b[31m4.7 MB/s\u001b[0m eta \u001b[36m0:00:00\u001b[0m\n",
            "\u001b[?25h  Preparing metadata (setup.py) ... \u001b[?25l\u001b[?25hdone\n",
            "Requirement already satisfied: py4j==0.10.9.7 in /usr/local/lib/python3.10/dist-packages (from pyspark) (0.10.9.7)\n",
            "Building wheels for collected packages: pyspark\n",
            "  Building wheel for pyspark (setup.py) ... \u001b[?25l\u001b[?25hdone\n",
            "  Created wheel for pyspark: filename=pyspark-3.5.2-py2.py3-none-any.whl size=317812365 sha256=4c5d272790ab0b9088de4226ad76eb067e97f9eaddfc21117e601b0589ff520e\n",
            "  Stored in directory: /root/.cache/pip/wheels/34/34/bd/03944534c44b677cd5859f248090daa9fb27b3c8f8e5f49574\n",
            "Successfully built pyspark\n",
            "Installing collected packages: pyspark\n",
            "Successfully installed pyspark-3.5.2\n"
          ]
        }
      ],
      "source": [
        "!pip install pyspark"
      ]
    },
    {
      "cell_type": "code",
      "execution_count": null,
      "metadata": {
        "id": "rba4yMqMqGD7"
      },
      "outputs": [],
      "source": [
        "from pyspark.sql import SparkSession\n",
        "from pyspark.sql.functions import mean as _mean\n",
        "from pyspark.ml import Pipeline\n",
        "from pyspark.ml.feature import VectorAssembler, StandardScaler, PolynomialExpansion\n",
        "from pyspark.ml.regression import LinearRegression, RandomForestRegressor\n",
        "from pyspark.ml.evaluation import RegressionEvaluator\n",
        "from pyspark.ml.tuning import CrossValidator, ParamGridBuilder\n",
        "\n",
        "# Step 1: Initialize Spark session\n",
        "spark = SparkSession.builder \\\n",
        "    .appName(\"Superconductivity Prediction\")\\\n",
        "    .config(\"spark.driver.memory\", \"4g\")\\\n",
        "    .config(\"spark.executor.memory\", \"4g\")\\\n",
        "    .config(\"spark.sql.execution.arrow.enabled\", \"true\")\\\n",
        "    .getOrCreate()\n",
        "\n",
        "# Load data\n",
        "data = spark.read.csv('/content/sample_data/train.csv', header=True, inferSchema=True)"
      ]
    },
    {
      "cell_type": "markdown",
      "metadata": {
        "id": "dUYPRLgPs2Le"
      },
      "source": [
        "# Data Preparation\n",
        "\n",
        "**Data Cleaning**\n",
        "Missing values are handled by calculating the mean for columns with missing data. The mean is then used to fill the missing values, except for the target variable (critical_temp). This prevents data loss while maintaining consistency.\n",
        "\n",
        "**Feature Engineering and Scaling**\n",
        "- VectorAssembler: Combines multiple columns (features) into a single feature vector, excluding the target column (critical_temp).\n",
        "- StandardScaler: Normalizes features by removing the mean and scaling to unit variance, improving model performance, especially for algorithms sensitive to feature magnitude.\n",
        "\n",
        "**Train-Test Split**\n",
        "The dataset is split into 80% training data and 20% test data using random sampling. The seed=42 ensures reproducibility of the split\n",
        "\n",
        "\n",
        "\n"
      ]
    },
    {
      "cell_type": "code",
      "execution_count": null,
      "metadata": {
        "id": "bQ3NCPxTsUnx"
      },
      "outputs": [],
      "source": [
        "# 2. Data preparation\n",
        "\n",
        "# 2a. Handle missing values - calculate mean only for columns with missing values\n",
        "means = {}\n",
        "for col in data.columns:\n",
        "    if col != 'critical_temp' and data.select(col).filter(data[col].isNull()).count() > 0:\n",
        "        means[col] = data.select(_mean(col)).first()[0]\n",
        "\n",
        "# Fill missing values with the calculated means\n",
        "data = data.na.fill(means)\n",
        "\n",
        "# Feature engineering, scaling, and splitting the data\n",
        "assembler = VectorAssembler(inputCols=data.columns[:-1], outputCol=\"features\")\n",
        "data_prepared = assembler.transform(data).select(\"features\", \"critical_temp\")\n",
        "\n",
        "# Scaling features\n",
        "scaler = StandardScaler(inputCol=\"features\", outputCol=\"scaled_features\")\n",
        "data_scaled = scaler.fit(data_prepared).transform(data_prepared).select(\"scaled_features\", \"critical_temp\")\n",
        "\n",
        "# Train-test split\n",
        "train_data, test_data = data_scaled.randomSplit([0.8, 0.2], seed=42)"
      ]
    },
    {
      "cell_type": "markdown",
      "metadata": {
        "id": "DJ3ocuSBs2Lf"
      },
      "source": [
        "# Model Training\n",
        "\n",
        "**linear regression model** : trained using the scaled features to predict the target variable (critical_temp).\n",
        "\n",
        "**polynomial regression model** : A polynomial transformation is applied to the features to account for non-linear relationships. The degree is set to 2, creating quadratic feature combinations. A linear regression model is then trained on these polynomial features\n",
        "\n",
        "**random forest regrssion moel** : A Random Forest Regressor, which is an ensemble method based on decision trees, is trained using the scaled features"
      ]
    },
    {
      "cell_type": "code",
      "execution_count": null,
      "metadata": {
        "id": "qsN4GLgpsdUy"
      },
      "outputs": [],
      "source": [
        "# Linear Regression\n",
        "lr = LinearRegression(featuresCol=\"scaled_features\", labelCol=\"critical_temp\")\n",
        "lr_model = lr.fit(train_data)\n",
        "\n",
        "# Polynomial Regression (using feature transformations)\n",
        "polyExpansion = PolynomialExpansion(degree=2, inputCol=\"scaled_features\", outputCol=\"poly_features\")\n",
        "train_data_poly = polyExpansion.transform(train_data)\n",
        "test_data_poly = polyExpansion.transform(test_data)\n",
        "\n",
        "lr_poly = LinearRegression(featuresCol=\"poly_features\", labelCol=\"critical_temp\")\n",
        "lr_poly_model = lr_poly.fit(train_data_poly)\n",
        "\n",
        "# Random Forest\n",
        "rf = RandomForestRegressor(featuresCol=\"scaled_features\", labelCol=\"critical_temp\")\n",
        "rf_model = rf.fit(train_data)"
      ]
    },
    {
      "cell_type": "markdown",
      "metadata": {
        "id": "ahD3SvgVs2Lg"
      },
      "source": [
        "# Hyperparameter Tuning with Cross-Validation\n",
        "\n",
        "1. Tuning Linear Regression - A CrossValidator is used for hyperparameter tuning. The grid search evaluates different combinations of regularization parameters (regParam) and the Elastic Net mixing parameter (elasticNetParam). 3-fold cross-validation is performed to evaluate model performance across different splits."
      ]
    },
    {
      "cell_type": "code",
      "execution_count": null,
      "metadata": {
        "id": "11VvWuyesj9S"
      },
      "outputs": [],
      "source": [
        "# 1. Fine-Tuning Linear Regression\n",
        "paramGrid_lr = ParamGridBuilder() \\\n",
        "    .addGrid(lr.regParam, [0.01, 0.1]) \\\n",
        "    .addGrid(lr.elasticNetParam, [0.0, 0.5]) \\\n",
        "    .build()\n",
        "\n",
        "crossval_lr = CrossValidator(estimator=lr,\n",
        "                             estimatorParamMaps=paramGrid_lr,\n",
        "                             evaluator=RegressionEvaluator(labelCol=\"critical_temp\"),\n",
        "                             numFolds=3,  # Reduced from 5 to 3\n",
        "                             parallelism=3)  # Set parallelism if possible\n",
        "\n",
        "cv_model_lr = crossval_lr.fit(train_data)"
      ]
    },
    {
      "cell_type": "markdown",
      "metadata": {
        "id": "0EBvkj38s2Lh"
      },
      "source": [
        "2. Tuning polynomial regression : The same grid search approach is applied to the polynomial regression model using the polynomial features. This allows fine-tuning of the model\u2019s regularization parameters"
      ]
    },
    {
      "cell_type": "code",
      "execution_count": null,
      "metadata": {
        "id": "wevZ3tBfs2Lh"
      },
      "outputs": [],
      "source": [
        "# 2. Fine-Tuning Polynomial Regression\n",
        "paramGrid_lr_poly = ParamGridBuilder() \\\n",
        "    .addGrid(lr_poly.regParam, [0.01, 0.1]) \\\n",
        "    .addGrid(lr_poly.elasticNetParam, [0.0, 0.5]) \\\n",
        "    .build()\n",
        "\n",
        "crossval_lr_poly = CrossValidator(estimator=lr_poly,\n",
        "                                  estimatorParamMaps=paramGrid_lr_poly,\n",
        "                                  evaluator=RegressionEvaluator(labelCol=\"critical_temp\"),\n",
        "                                  numFolds=3,  # Reduced from 5 to 3\n",
        "                                  parallelism=3)  # Set parallelism if possible\n",
        "\n",
        "cv_model_lr_poly = crossval_lr_poly.fit(train_data_poly)"
      ]
    },
    {
      "cell_type": "markdown",
      "metadata": {
        "id": "BHx00nlOs2Lh"
      },
      "source": [
        "3. Tuning Random Forest : A cross-validation grid search is used to tune the number of trees (numTrees) and the maximum depth of each tree (maxDepth) in the Random Forest Regressor. This helps to avoid overfitting or underfitting."
      ]
    },
    {
      "cell_type": "code",
      "execution_count": null,
      "metadata": {
        "id": "Tw8pLyMls2Li"
      },
      "outputs": [],
      "source": [
        "# 3. Fine-Tuning Random Forest\n",
        "paramGrid_rf = ParamGridBuilder() \\\n",
        "    .addGrid(rf.numTrees, [50, 100]) \\\n",
        "    .addGrid(rf.maxDepth, [5, 10]) \\\n",
        "    .addGrid(rf.minInstancesPerNode, [1, 5, 10]) \\\n",
        "    .addGrid(rf.maxBins, [32, 64]) \\\n",
        "    .build()\n",
        "\n",
        "crossval_rf = CrossValidator(estimator=rf,\n",
        "                             estimatorParamMaps=paramGrid_rf,\n",
        "                             evaluator=RegressionEvaluator(labelCol=\"critical_temp\"),\n",
        "                             numFolds=3,  # Reduced from 5 to 3\n",
        "                             parallelism=4)  # Set parallelism if possible\n",
        "\n",
        "cv_model_rf = crossval_rf.fit(train_data)"
      ]
    },
    {
      "cell_type": "markdown",
      "metadata": {
        "id": "3idkw2fPs2Li"
      },
      "source": [
        "# Model Evaluation\n",
        "\n",
        "We will use two metrics to evaluate the three model performance.\n",
        "\n",
        "**RMSE (Root Mean Squared Error)**: Measures the average prediction error in the same units as the target variable. Lower values indicate better model performance.\n",
        "\n",
        "R**2(R-squared)**: Indicates the proportion of variance in the target variable explained by the model. Values closer to 1 mean the model explains more variance.\n",
        "\n",
        "1. We will first evaluate the three model before tuning"
      ]
    },
    {
      "cell_type": "code",
      "execution_count": null,
      "metadata": {
        "colab": {
          "base_uri": "https://localhost:8080/"
        },
        "id": "VnagRV7Vs2Lj",
        "outputId": "d2d4e7ba-702c-424e-a3ba-7dd4aa1e5cfe"
      },
      "outputs": [
        {
          "name": "stdout",
          "output_type": "stream",
          "text": [
            "                   Model  RMSE (Before Tuning)  R2 (Before Tuning)\n",
            "0      Linear Regression             17.927170            0.723207\n",
            "1  Polynomial Regression             19.726804            0.664846\n",
            "2          Random Forest             15.810519            0.784710\n"
          ]
        }
      ],
      "source": [
        "#Evaluation of Model Before Tuning\n",
        "from pyspark.ml.evaluation import RegressionEvaluator\n",
        "\n",
        "# Evaluator for regression models\n",
        "evaluator = RegressionEvaluator(labelCol=\"critical_temp\", predictionCol=\"prediction\", metricName=\"rmse\")\n",
        "evaluator_r2 = RegressionEvaluator(labelCol=\"critical_temp\", predictionCol=\"prediction\", metricName=\"r2\")\n",
        "\n",
        "\n",
        "# Fit Linear Regression model before tuning\n",
        "predictions_lr_before = lr_model.transform(test_data)\n",
        "rmse_lr_before = evaluator.evaluate(predictions_lr_before)\n",
        "r2_lr_before = evaluator_r2.evaluate(predictions_lr_before)\n",
        "\n",
        "# Fit Polynomial Regression model before tuning\n",
        "predictions_lr_poly_before = lr_poly_model.transform(test_data_poly)\n",
        "rmse_lr_poly_before = evaluator.evaluate(predictions_lr_poly_before)\n",
        "r2_lr_poly_before = evaluator_r2.evaluate(predictions_lr_poly_before)\n",
        "\n",
        "# Fit Random Forest model before tuning\n",
        "predictions_rf_before = rf_model.transform(test_data)\n",
        "rmse_rf_before = evaluator.evaluate(predictions_rf_before)\n",
        "r2_rf_before = evaluator_r2.evaluate(predictions_rf_before)\n",
        "\n",
        "results = pd.DataFrame({\n",
        "    'Model': ['Linear Regression', 'Polynomial Regression', 'Random Forest'],\n",
        "    'RMSE (Before Tuning)': [rmse_lr_before, rmse_lr_poly_before, rmse_rf_before],\n",
        "    'R2 (Before Tuning)': [r2_lr_before, r2_lr_poly_before, r2_rf_before]\n",
        "})\n",
        "\n",
        "print(results)"
      ]
    },
    {
      "cell_type": "markdown",
      "metadata": {
        "id": "6j6-Mmh7EGh3"
      },
      "source": [
        "Result Interpretation\n",
        "\n",
        "Linear Regression: Shows moderate performance with RMSE of 17.93 and R2 of 0.72.\n",
        "\n",
        "Polynomial Regression: Has higher RMSE (19.73) and lower R2 (0.66), indicating worse performance compared to the others.\n",
        "\n",
        "Random Forest: Performs best with the lowest RMSE (15.81) and highest R2(0.78) among the models before tuning\n",
        "\n",
        "2. Then We will evaluate the performance after tuning"
      ]
    },
    {
      "cell_type": "code",
      "execution_count": null,
      "metadata": {
        "colab": {
          "base_uri": "https://localhost:8080/"
        },
        "id": "Q7vSqIJHtlKW",
        "outputId": "5f8f7901-a92b-4b38-f7e5-561e997b7a39"
      },
      "outputs": [
        {
          "name": "stdout",
          "output_type": "stream",
          "text": [
            "                   Model  RMSE (After Tuning)  R2 (After Tuning)\n",
            "0      Linear Regression            17.919789           0.723435\n",
            "1  Polynomial Regression            13.750952           0.837147\n",
            "2          Random Forest            11.282088           0.890375\n"
          ]
        }
      ],
      "source": [
        "# Evaluate the models' performance (After Tuning)\n",
        "\n",
        "# Evaluate Linear Regression\n",
        "predictions_lr = cv_model_lr.transform(test_data)\n",
        "rmse_lr = evaluator.evaluate(predictions_lr)\n",
        "r2_lr = evaluator_r2.evaluate(predictions_lr)\n",
        "\n",
        "\n",
        "# Evaluate Polynomial Regression\n",
        "predictions_lr_poly = cv_model_lr_poly.transform(test_data_poly)\n",
        "rmse_lr_poly = evaluator.evaluate(predictions_lr_poly)\n",
        "r2_lr_poly = evaluator_r2.evaluate(predictions_lr_poly)\n",
        "\n",
        "\n",
        "# Evaluate Random Forest\n",
        "predictions_rf = cv_model_rf.transform(test_data)\n",
        "rmse_rf = evaluator.evaluate(predictions_rf)\n",
        "r2_rf = evaluator_r2.evaluate(predictions_rf)\n",
        "\n",
        "\n",
        "results = pd.DataFrame({\n",
        "    'Model': ['Linear Regression', 'Polynomial Regression', 'Random Forest'],\n",
        "    'RMSE (After Tuning)': [rmse_lr, rmse_lr_poly, rmse_rf],\n",
        "    'R2 (After Tuning)': [r2_lr, r2_lr_poly, r2_rf]\n",
        "})\n",
        "\n",
        "print(results)\n"
      ]
    },
    {
      "cell_type": "markdown",
      "metadata": {
        "id": "RJm8IN2jEQ_6"
      },
      "source": [
        "**Result Interpretation After Tuning**\n",
        "\n",
        "Linear Regression: Slight improvement in RMSE (17.92) and R2(0.72) after tuning.\n",
        "\n",
        "Polynomial Regression: Significant improvement with RMSE of 13.75 and R2 of 0.84, showing better performance after tuning.\n",
        "\n",
        "Random Forest: Shows the best results with RMSE of 11.28 and R2 of 0.89 after tuning, indicating the highest performance improvements.\n",
        "\n",
        "# Visualization of Model Performance Using Graph"
      ]
    },
    {
      "cell_type": "code",
      "execution_count": null,
      "metadata": {
        "colab": {
          "base_uri": "https://localhost:8080/",
          "height": 667
        },
        "id": "lu9srGeC9jie",
        "outputId": "10767758-72ba-456e-eb25-5236aa5730f6"
      },
      "outputs": [
        {
          "data": {
            "image/png": "[encoded data removed]",
            "text/plain": [
              "<Figure size 1000x700 with 1 Axes>"
            ]
          },
          "metadata": {},
          "output_type": "display_data"
        }
      ],
      "source": [
        "import matplotlib.pyplot as plt\n",
        "\n",
        "# RMSE values before and after tuning\n",
        "rmse_values_before = [rmse_lr_before, rmse_lr_poly_before, rmse_rf_before]\n",
        "rmse_values_after = [rmse_lr, rmse_lr_poly, rmse_rf]\n",
        "\n",
        "# Model names for the x-axis\n",
        "models = ['Linear Regression', 'Polynomial Regression', 'Random Forest']\n",
        "\n",
        "# Plotting the bar chart\n",
        "x = range(len(models))  # positions for bars\n",
        "plt.figure(figsize=(10, 7))\n",
        "\n",
        "# Plot bars for RMSE before tuning\n",
        "plt.bar(x, rmse_values_before, width=0.4, label='Before Tuning', color='blue', align='center')\n",
        "\n",
        "# Plot bars for RMSE after tuning\n",
        "plt.bar([i + 0.4 for i in x], rmse_values_after, width=0.4, label='After Tuning', color='orange', align='center')\n",
        "\n",
        "# Adding labels and title\n",
        "plt.xlabel('Models')\n",
        "plt.ylabel('RMSE')\n",
        "plt.title('Comparison of RMSE Before and After Tuning')\n",
        "plt.xticks([i + 0.2 for i in x], models)  # Set the correct x-ticks\n",
        "plt.legend()\n",
        "plt.tight_layout()\n",
        "\n",
        "# Show plot\n",
        "plt.show()"
      ]
    },
    {
      "cell_type": "code",
      "execution_count": null,
      "metadata": {
        "colab": {
          "base_uri": "https://localhost:8080/",
          "height": 727
        },
        "id": "-UyqramDCnxx",
        "outputId": "a9404a8b-1f5e-40d9-80cb-999cea0ae9d8"
      },
      "outputs": [
        {
          "data": {
            "image/png": "[encoded data removed]",
            "text/plain": [
              "<Figure size 1000x700 with 1 Axes>"
            ]
          },
          "metadata": {},
          "output_type": "display_data"
        }
      ],
      "source": [
        "import matplotlib.pyplot as plt\n",
        "\n",
        "# r2 values before and after tuning\n",
        "r2_values_before = [r2_lr_before, r2_lr_poly_before, r2_rf_before]\n",
        "r2_values_after = [r2_lr, r2_lr_poly, r2_rf]\n",
        "\n",
        "# Model names for the x-axis\n",
        "models = ['Linear Regression', 'Polynomial Regression', 'Random Forest']\n",
        "\n",
        "# Plotting the bar chart\n",
        "x = range(len(models))  # positions for bars\n",
        "plt.figure(figsize=(10, 7))\n",
        "\n",
        "# Plot bars for R2 before tuning\n",
        "plt.bar(x, r2_values_before, width=0.4, label='Before Tuning', color='blue', align='center')\n",
        "\n",
        "# Plot bars for R2 after tuning\n",
        "plt.bar([i + 0.4 for i in x], r2_values_after, width=0.4, label='After Tuning', color='orange', align='center')\n",
        "\n",
        "# Adding labels and title\n",
        "plt.xlabel('Models')\n",
        "plt.ylabel('R2')\n",
        "plt.title('Comparison of R2 Before and After Tuning')\n",
        "plt.xticks([i + 0.2 for i in x], models)  # Set the correct x-ticks\n",
        "plt.legend()\n",
        "plt.tight_layout()\n",
        "\n",
        "# Show plot\n",
        "plt.show()"
      ]
    },
    {
      "cell_type": "markdown",
      "metadata": {
        "id": "HcNsBIACFhv-"
      },
      "source": [
        "# Final Analysis:\n",
        "\n",
        "Random Forest consistently performs the best in both RMSE and R2 metrics, showing it is the most accurate and reliable model for this data.\n",
        "\n",
        "Polynomial Regression improved the most after tuning, closing the gap with Random Forest but still underperforming slightly in RMSE.\n",
        "\n",
        "Linear Regression showed minimal improvement, indicating its performance is relatively stable with the current tuning adjustments."
      ]
    }
  ],
  "metadata": {
    "colab": {
      "provenance": []
    },
    "kernelspec": {
      "display_name": "Python 3 (ipykernel)",
      "language": "python",
      "name": "python3"
    },
    "language_info": {
      "codemirror_mode": {
        "name": "ipython",
        "version": 3
      },
      "file_extension": ".py",
      "mimetype": "text/x-python",
      "name": "python",
      "nbconvert_exporter": "python",
      "pygments_lexer": "ipython3",
      "version": "3.9.7"
    }
  },
  "nbformat": 4,
  "nbformat_minor": 1
}